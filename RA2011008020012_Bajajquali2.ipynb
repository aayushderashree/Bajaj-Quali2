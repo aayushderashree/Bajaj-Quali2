{
  "nbformat": 4,
  "nbformat_minor": 0,
  "metadata": {
    "colab": {
      "provenance": []
    },
    "kernelspec": {
      "name": "python3",
      "display_name": "Python 3"
    },
    "language_info": {
      "name": "python"
    }
  },
  "cells": [
    {
      "cell_type": "code",
      "execution_count": 2,
      "metadata": {
        "id": "aNa-TEkJhlY9"
      },
      "outputs": [],
      "source": [
        "import json\n",
        "\n",
        "with open('/content/drive/MyDrive/DataEngineeringQ2.json') as f:\n",
        "    data = json.load(f)\n"
      ]
    },
    {
      "cell_type": "code",
      "source": [
        "extracted_data = []\n",
        "for item in data:\n",
        "    extracted_item = {\n",
        "        'appointmentId': item.get('appointmentId'),\n",
        "        'phoneNumber': item.get('phoneNumber'),\n",
        "        'firstName': item.get('patientDetails', {}).get('firstName'),\n",
        "        'lastName': item.get('patientDetails', {}).get('lastName'),\n",
        "        'gender': item.get('patientDetails', {}).get('gender'),\n",
        "        'DOB': item.get('patientDetails', {}).get('birthDate')\n",
        "    }\n",
        "    extracted_data.append(extracted_item)\n",
        "\n"
      ],
      "metadata": {
        "id": "Dr_i6YUqh9Vi"
      },
      "execution_count": 3,
      "outputs": []
    },
    {
      "cell_type": "code",
      "source": [
        "for item in extracted_data:\n",
        "    gender = item['gender']\n",
        "    if gender == 'M':\n",
        "        item['gender'] = 'male'\n",
        "    elif gender == 'F':\n",
        "        item['gender'] = 'female'\n",
        "    else:\n",
        "        item['gender'] = 'others'\n"
      ],
      "metadata": {
        "id": "ApV4sy2mh_TB"
      },
      "execution_count": 4,
      "outputs": []
    },
    {
      "cell_type": "code",
      "source": [
        "for item in extracted_data:\n",
        "    patient_details = item.get('patientDetails', {})\n",
        "    item['DOB'] = patient_details.get('birthDate')\n"
      ],
      "metadata": {
        "id": "jbmxMjv3iBfN"
      },
      "execution_count": 7,
      "outputs": []
    },
    {
      "cell_type": "code",
      "source": [
        "for item in extracted_data:\n",
        "    firstName = item.get('firstName')\n",
        "    lastName = item.get('lastName')\n",
        "    item['fullName'] = f\"{firstName} {lastName}\"\n"
      ],
      "metadata": {
        "id": "ozuTSeDUiE9h"
      },
      "execution_count": 8,
      "outputs": []
    },
    {
      "cell_type": "code",
      "source": [
        "import re\n",
        "\n",
        "for item in extracted_data:\n",
        "    phoneNumber = item.get('phoneNumber')\n",
        "    isValid = False\n",
        "    \n",
        "    if phoneNumber:\n",
        "        phoneNumber = phoneNumber.strip()\n",
        "        \n",
        "        \n",
        "        if re.match(r'^(\\+91|91)?[6-9]\\d{9}$', phoneNumber):\n",
        "            isValid = True\n",
        "    \n",
        "    item['isValidMobile'] = isValid\n"
      ],
      "metadata": {
        "id": "0qO7foOmiiEQ"
      },
      "execution_count": 9,
      "outputs": []
    },
    {
      "cell_type": "code",
      "source": [
        "import hashlib\n",
        "\n",
        "for item in extracted_data:\n",
        "    phoneNumber = item.get('phoneNumber')\n",
        "    phoneNumberHash = None\n",
        "    \n",
        "    if phoneNumber:\n",
        "        phoneNumber = phoneNumber.strip()  \n",
        "        \n",
        "        \n",
        "        if re.match(r'^(\\+91|91)?[6-9]\\d{9}$', phoneNumber):\n",
        "            normalizedNumber = re.sub(r'(\\+91|91)', '', phoneNumber)  \n",
        "            \n",
        "            \n",
        "            phoneNumberHash = hashlib.sha256(normalizedNumber.encode()).hexdigest()\n",
        "    \n",
        "    item['phoneNumberHash'] = phoneNumberHash\n"
      ],
      "metadata": {
        "id": "iOW6mmpIir1b"
      },
      "execution_count": 10,
      "outputs": []
    },
    {
      "cell_type": "code",
      "source": [
        "import datetime\n",
        "\n",
        "for item in extracted_data:\n",
        "    dob = item.get('DOB')\n",
        "    age = None\n",
        "    \n",
        "    if dob:\n",
        "        dob = dob.strip()  \n",
        "        \n",
        "       \n",
        "        dob_datetime = datetime.datetime.strptime(dob, '%Y-%m-%dT%H:%M:%S.%fZ')\n",
        "        \n",
        "        \n",
        "        current_date = datetime.datetime.now()\n",
        "        age = current_date.year - dob_datetime.year\n",
        "        \n",
        "        \n",
        "        if current_date.month < dob_datetime.month or (current_date.month == dob_datetime.month and current_date.day < dob_datetime.day):\n",
        "            age -= 1\n",
        "    \n",
        "    item['Age'] = age\n"
      ],
      "metadata": {
        "id": "zsjHW8T8i41e"
      },
      "execution_count": 11,
      "outputs": []
    },
    {
      "cell_type": "code",
      "source": [
        "from collections import Counter\n",
        "\n",
        "\n",
        "medicines_count = Counter(item['appointmentId'] for item in extracted_data)\n",
        "active_medicines_count = Counter(item['appointmentId'] for item in extracted_data if item.get('IsActive') == True)\n",
        "inactive_medicines_count = Counter(item['appointmentId'] for item in extracted_data if item.get('IsActive') == False)\n",
        "\n",
        "\n",
        "for item in extracted_data:\n",
        "    appointment_id = item['appointmentId']\n",
        "    item['noOfMedicines'] = medicines_count[appointment_id]\n",
        "    item['noOfActiveMedicines'] = active_medicines_count[appointment_id]\n",
        "    item['noOfInactiveMedicines'] = inactive_medicines_count[appointment_id]\n"
      ],
      "metadata": {
        "id": "60WrM5RpjEY0"
      },
      "execution_count": 12,
      "outputs": []
    },
    {
      "cell_type": "code",
      "source": [
        "from collections import defaultdict\n",
        "\n",
        "\n",
        "active_medicines_dict = defaultdict(list)\n",
        "for item in extracted_data:\n",
        "    appointment_id = item['appointmentId']\n",
        "    if item.get('IsActive') == True:\n",
        "        active_medicines_dict[appointment_id].append(item.get('medicineName'))\n",
        "\n",
        "\n",
        "for item in extracted_data:\n",
        "    appointment_id = item['appointmentId']\n",
        "    active_medicines = active_medicines_dict[appointment_id]\n",
        "    item['medicineNames'] = ', '.join(active_medicines)\n"
      ],
      "metadata": {
        "id": "Iawyp8WVjS7Y"
      },
      "execution_count": 13,
      "outputs": []
    },
    {
      "cell_type": "code",
      "source": [
        "import pandas as pd\n",
        "\n",
        "\n",
        "final_dataframe = pd.DataFrame(extracted_data, columns=['appointmentId', 'fullName', 'phoneNumber', 'isValidMobile',\n",
        "                                                       'phoneNumberHash', 'gender', 'DOB', 'Age', 'noOfMedicines',\n",
        "                                                       'noOfActiveMedicines', 'noOfInactiveMedicines', 'medicineNames'])\n",
        "\n",
        "\n",
        "final_dataframe.to_csv('output.csv', sep='~', index=False)\n"
      ],
      "metadata": {
        "id": "dySCUjevjd0X"
      },
      "execution_count": 14,
      "outputs": []
    },
    {
      "cell_type": "code",
      "source": [
        "import json\n",
        "import matplotlib.pyplot as plt\n",
        "\n",
        "\n",
        "age_count = Counter(item['Age'] for item in extracted_data)\n",
        "gender_count = Counter(item['gender'] for item in extracted_data)\n",
        "valid_phone_numbers = sum(1 for item in extracted_data if item['isValidMobile'])\n",
        "appointments_count = len(extracted_data)\n",
        "medicines_count = sum(item['noOfMedicines'] for item in extracted_data)\n",
        "active_medicines_count = sum(item['noOfActiveMedicines'] for item in extracted_data)\n",
        "\n",
        "\n",
        "aggregated_data = {\n",
        "    'Age': dict(age_count),\n",
        "    'gender': dict(gender_count),\n",
        "    'validPhoneNumbers': valid_phone_numbers,\n",
        "    'appointments': appointments_count,\n",
        "    'medicines': medicines_count,\n",
        "    'activeMedicines': active_medicines_count\n",
        "}\n",
        "\n",
        "\n",
        "with open('aggregated_data.json', 'w') as json_file:\n",
        "    json.dump(aggregated_data, json_file)\n",
        "\n",
        "\n",
        "gender_labels = list(gender_count.keys())\n",
        "gender_appointments = list(gender_count.values())\n",
        "\n",
        "plt.pie(gender_appointments, labels=gender_labels, autopct='%1.1f%%')\n",
        "plt.title('Number of Appointments by Gender')\n",
        "plt.axis('equal')\n",
        "\n",
        "\n",
        "plt.savefig('pie_chart.png')\n"
      ],
      "metadata": {
        "colab": {
          "base_uri": "https://localhost:8080/",
          "height": 428
        },
        "id": "XJWNnzTbjjqW",
        "outputId": "b2412703-dd83-42ea-a7d2-3226f87ff81c"
      },
      "execution_count": 15,
      "outputs": [
        {
          "output_type": "display_data",
          "data": {
            "text/plain": [
              "<Figure size 640x480 with 1 Axes>"
            ],
            "image/png": "[encoded data removed]"
          },
          "metadata": {}
        }
      ]
    },
    {
      "cell_type": "code",
      "source": [],
      "metadata": {
        "id": "qwxLsOsVjrhw"
      },
      "execution_count": null,
      "outputs": []
    }
  ]
}